{
 "cells": [
  {
   "cell_type": "code",
   "execution_count": 9,
   "id": "ff0c6afc-8f6f-448a-8004-161365150902",
   "metadata": {},
   "outputs": [
    {
     "name": "stdout",
     "output_type": "stream",
     "text": [
      "🚀 ЗАПУСК ОБУЧЕНИЯ МОДЕЛЕЙ САРКАЗМА\n",
      "============================================================\n"
     ]
    }
   ],
   "source": [
    "import pandas as pd\n",
    "import numpy as np\n",
    "import torch\n",
    "import joblib\n",
    "import time\n",
    "import os\n",
    "import matplotlib.pyplot as plt\n",
    "import seaborn as sns\n",
    "from sklearn.feature_extraction.text import TfidfVectorizer\n",
    "from sklearn.linear_model import LogisticRegression\n",
    "from sklearn.metrics import classification_report, f1_score, accuracy_score, confusion_matrix\n",
    "from catboost import CatBoostClassifier\n",
    "from sentence_transformers import SentenceTransformer\n",
    "from transformers import (\n",
    "    AutoTokenizer, AutoModelForSequenceClassification,\n",
    "    Trainer, TrainingArguments, DataCollatorWithPadding\n",
    ")\n",
    "from datasets import Dataset, DatasetDict\n",
    "import evaluate\n",
    "import warnings\n",
    "warnings.filterwarnings(\"ignore\", category=UserWarning, module=\"torch.utils.data.dataloader\")\n",
    "\n",
    "import os\n",
    "os.environ[\"WANDB_DISABLED\"] = \"true\"\n",
    "\n",
    "print(\"🚀 ЗАПУСК ОБУЧЕНИЯ МОДЕЛЕЙ САРКАЗМА\")\n",
    "print(\"=\" * 60)\n",
    "\n",
    "\n",
    "df = pd.read_csv('./data/processed/cleaned_sarcasm_data.csv')"
   ]
  },
  {
   "cell_type": "code",
   "execution_count": 2,
   "id": "e1e29992-c31c-41ec-9da4-adb96afaddaa",
   "metadata": {},
   "outputs": [
    {
     "name": "stdout",
     "output_type": "stream",
     "text": [
      "\n",
      "📊 РАЗДЕЛЕНИЕ ДАННЫХ:\n",
      "Train set: 22802 samples\n",
      "Test set: 5701 samples\n",
      "Sarcasm ratio - Train: 0.475, Test: 0.476\n"
     ]
    }
   ],
   "source": [
    "# Разделение на train/test\n",
    "from sklearn.model_selection import train_test_split\n",
    "\n",
    "train, test = train_test_split(\n",
    "    df, \n",
    "    test_size=0.2, \n",
    "    random_state=42, \n",
    "    stratify=df['is_sarcastic']\n",
    ")\n",
    "\n",
    "print(f\"\\n📊 РАЗДЕЛЕНИЕ ДАННЫХ:\")\n",
    "print(f\"Train set: {len(train)} samples\")\n",
    "print(f\"Test set: {len(test)} samples\")\n",
    "print(f\"Sarcasm ratio - Train: {train['is_sarcastic'].mean():.3f}, Test: {test['is_sarcastic'].mean():.3f}\")\n",
    "\n",
    "# Словарь для хранения результатов\n",
    "results = {}\n",
    "\n",
    "# Создаем папку для моделей\n",
    "os.makedirs('./models', exist_ok=True)"
   ]
  },
  {
   "cell_type": "markdown",
   "id": "47ff7ca8-be00-4add-a69f-e25dfab93394",
   "metadata": {},
   "source": [
    "# 1. LOGISTIC REGRESSION + TF-IDF"
   ]
  },
  {
   "cell_type": "code",
   "execution_count": 3,
   "id": "aef177d6-2907-433b-aa39-f2215eb03d72",
   "metadata": {},
   "outputs": [
    {
     "name": "stdout",
     "output_type": "stream",
     "text": [
      "\n",
      "==================================================\n",
      "1. 🔵 LOGISTIC REGRESSION + TF-IDF\n",
      "==================================================\n",
      "Создаем TF-IDF векторизацию...\n",
      "Размерность TF-IDF: (22802, 10000)\n",
      "Размерность TF-IDF: (22802, 10000)\n"
     ]
    }
   ],
   "source": [
    "print(\"\\n\" + \"=\"*50)\n",
    "print(\"1. 🔵 LOGISTIC REGRESSION + TF-IDF\")\n",
    "print(\"=\"*50)\n",
    "\n",
    "start_time = time.time()\n",
    "\n",
    "# TF-IDF векторизация\n",
    "print(\"Создаем TF-IDF векторизацию...\")\n",
    "tfidf = TfidfVectorizer(\n",
    "    max_features=10000, \n",
    "    ngram_range=(1, 2),\n",
    "    stop_words='english'\n",
    ")\n",
    "X_train_tfidf = tfidf.fit_transform(train['headline'])\n",
    "X_test_tfidf = tfidf.transform(test['headline'])\n",
    "\n",
    "print(f\"Размерность TF-IDF: {X_train_tfidf.shape}\")\n",
    "\n",
    "X_train_tfidf = tfidf.fit_transform(train['headline'])\n",
    "X_test_tfidf = tfidf.transform(test['headline'])\n",
    "\n",
    "print(f\"Размерность TF-IDF: {X_train_tfidf.shape}\")"
   ]
  },
  {
   "cell_type": "code",
   "execution_count": 4,
   "id": "cf8ee8f8-1ea3-4181-81b1-19eef82ee2aa",
   "metadata": {},
   "outputs": [
    {
     "name": "stdout",
     "output_type": "stream",
     "text": [
      "Обучаем Logistic Regression...\n",
      "✅ Обучение завершено:\n",
      "   F1-score: 0.7717\n",
      "   Accuracy: 0.7834\n",
      "   Время обучения: 5.62 сек\n",
      "   Время предсказания: 0.0010 сек\n"
     ]
    }
   ],
   "source": [
    "print(\"Обучаем Logistic Regression...\")\n",
    "lr_model = LogisticRegression(\n",
    "    random_state=42,\n",
    "    max_iter=1000,\n",
    "    class_weight='balanced',\n",
    "    C=1.0\n",
    ")\n",
    "lr_model.fit(X_train_tfidf, train['is_sarcastic'])\n",
    "lr_train_time = time.time() - start_time\n",
    "\n",
    "# Предсказания\n",
    "start_pred = time.time()\n",
    "lr_pred = lr_model.predict(X_test_tfidf)\n",
    "lr_pred_proba = lr_model.predict_proba(X_test_tfidf)\n",
    "lr_pred_time = time.time() - start_pred\n",
    "\n",
    "# Метрики\n",
    "lr_f1 = f1_score(test['is_sarcastic'], lr_pred)\n",
    "lr_accuracy = accuracy_score(test['is_sarcastic'], lr_pred)\n",
    "\n",
    "print(f\"✅ Обучение завершено:\")\n",
    "print(f\"   F1-score: {lr_f1:.4f}\")\n",
    "print(f\"   Accuracy: {lr_accuracy:.4f}\")\n",
    "print(f\"   Время обучения: {lr_train_time:.2f} сек\")\n",
    "print(f\"   Время предсказания: {lr_pred_time:.4f} сек\")\n",
    "\n",
    "results['LogReg_TFIDF'] = {\n",
    "    'model': lr_model,\n",
    "    'vectorizer': tfidf,\n",
    "    'f1': lr_f1,\n",
    "    'accuracy': lr_accuracy,\n",
    "    'train_time': lr_train_time,\n",
    "    'pred_time': lr_pred_time,\n",
    "    'predictions': lr_pred,\n",
    "    'probabilities': lr_pred_proba\n",
    "}"
   ]
  },
  {
   "cell_type": "markdown",
   "id": "fd94cd17-a52d-4b1c-ad45-802804161425",
   "metadata": {},
   "source": [
    "# 2. CATBOOST + SENTENCE TRANSFORMER"
   ]
  },
  {
   "cell_type": "code",
   "execution_count": 5,
   "id": "f4f1323a-4695-4211-95d2-8596e09c45b9",
   "metadata": {},
   "outputs": [
    {
     "name": "stdout",
     "output_type": "stream",
     "text": [
      "\n",
      "==================================================\n",
      "2. 🐱 CATBOOST + SENTENCE TRANSFORMER\n",
      "==================================================\n",
      "Создаем SentenceTransformer эмбеддинги...\n",
      "Размерность эмбеддингов: (22802, 384)\n"
     ]
    }
   ],
   "source": [
    "print(\"\\n\" + \"=\"*50)\n",
    "print(\"2. 🐱 CATBOOST + SENTENCE TRANSFORMER\")\n",
    "print(\"=\"*50)\n",
    "\n",
    "start_time = time.time()\n",
    "\n",
    "print(\"Создаем SentenceTransformer эмбеддинги...\")\n",
    "sentence_model = SentenceTransformer('all-MiniLM-L6-v2')\n",
    "X_train_emb = sentence_model.encode(train['headline'].tolist(), show_progress_bar=False)\n",
    "X_test_emb = sentence_model.encode(test['headline'].tolist(), show_progress_bar=False)\n",
    "\n",
    "print(f\"Размерность эмбеддингов: {X_train_emb.shape}\")"
   ]
  },
  {
   "cell_type": "code",
   "execution_count": 6,
   "id": "290115f8-4126-488d-baea-e0dd0fa845e4",
   "metadata": {},
   "outputs": [
    {
     "name": "stdout",
     "output_type": "stream",
     "text": [
      "Обучаем CatBoost...\n",
      "Learning rate set to 0.073932\n",
      "0:\tlearn: 0.6710628\ttotal: 316ms\tremaining: 2m 37s\n",
      "100:\tlearn: 0.4334060\ttotal: 13.1s\tremaining: 51.6s\n",
      "200:\tlearn: 0.3741082\ttotal: 25.8s\tremaining: 38.4s\n",
      "300:\tlearn: 0.3273855\ttotal: 39.2s\tremaining: 25.9s\n",
      "400:\tlearn: 0.2905950\ttotal: 55.3s\tremaining: 13.7s\n",
      "499:\tlearn: 0.2593328\ttotal: 1m 13s\tremaining: 0us\n",
      "✅ Обучение завершено:\n",
      "   F1-score: 0.7153\n",
      "   Accuracy: 0.7681\n",
      "   Время обучения: 293.38 сек\n",
      "   Время предсказания: 0.1402 сек\n"
     ]
    }
   ],
   "source": [
    "print(\"Обучаем CatBoost...\")\n",
    "cb_model = CatBoostClassifier(\n",
    "    random_state=42,\n",
    "    verbose=100,\n",
    "    class_weights=[1, train['is_sarcastic'].mean()],\n",
    "    iterations=500,\n",
    "    depth=6\n",
    ")\n",
    "cb_model.fit(X_train_emb, train['is_sarcastic'])\n",
    "cb_train_time = time.time() - start_time\n",
    "\n",
    "# Предсказания\n",
    "start_pred = time.time()\n",
    "cb_pred = cb_model.predict(X_test_emb)\n",
    "cb_pred_proba = cb_model.predict_proba(X_test_emb)\n",
    "cb_pred_time = time.time() - start_pred\n",
    "\n",
    "# Метрики\n",
    "cb_f1 = f1_score(test['is_sarcastic'], cb_pred)\n",
    "cb_accuracy = accuracy_score(test['is_sarcastic'], cb_pred)\n",
    "\n",
    "print(f\"✅ Обучение завершено:\")\n",
    "print(f\"   F1-score: {cb_f1:.4f}\")\n",
    "print(f\"   Accuracy: {cb_accuracy:.4f}\")\n",
    "print(f\"   Время обучения: {cb_train_time:.2f} сек\")\n",
    "print(f\"   Время предсказания: {cb_pred_time:.4f} сек\")\n",
    "\n",
    "results['CatBoost_ST'] = {\n",
    "    'model': cb_model,\n",
    "    'sentence_model': sentence_model,\n",
    "    'f1': cb_f1,\n",
    "    'accuracy': cb_accuracy,\n",
    "    'train_time': cb_train_time,\n",
    "    'pred_time': cb_pred_time,\n",
    "    'predictions': cb_pred,\n",
    "    'probabilities': cb_pred_proba\n",
    "}"
   ]
  },
  {
   "cell_type": "markdown",
   "id": "a49aafb1-c5fd-4791-9f3b-bf524c4154a2",
   "metadata": {},
   "source": [
    "# 3. BERT-Tiny\n",
    "обучим на 3х эпохах"
   ]
  },
  {
   "cell_type": "code",
   "execution_count": 7,
   "id": "1338e0da-d8b7-43d7-9106-aa5ced053d7e",
   "metadata": {},
   "outputs": [
    {
     "name": "stdout",
     "output_type": "stream",
     "text": [
      "\n",
      "==================================================\n",
      "3. 🤖 BERT-Tiny\n",
      "==================================================\n",
      "Загружаем BERT-Tiny...\n"
     ]
    },
    {
     "name": "stderr",
     "output_type": "stream",
     "text": [
      "Some weights of BertForSequenceClassification were not initialized from the model checkpoint at prajjwal1/bert-tiny and are newly initialized: ['classifier.bias', 'classifier.weight']\n",
      "You should probably TRAIN this model on a down-stream task to be able to use it for predictions and inference.\n"
     ]
    },
    {
     "name": "stdout",
     "output_type": "stream",
     "text": [
      "Подготавливаем данные...\n"
     ]
    },
    {
     "data": {
      "application/vnd.jupyter.widget-view+json": {
       "model_id": "fd71a928d2b54b0f9bcfe856abb077af",
       "version_major": 2,
       "version_minor": 0
      },
      "text/plain": [
       "Map:   0%|          | 0/22802 [00:00<?, ? examples/s]"
      ]
     },
     "metadata": {},
     "output_type": "display_data"
    },
    {
     "name": "stderr",
     "output_type": "stream",
     "text": [
      "Xet Storage is enabled for this repo, but the 'hf_xet' package is not installed. Falling back to regular HTTP download. For better performance, install the package with: `pip install huggingface_hub[hf_xet]` or `pip install hf_xet`\n",
      "Exception ignored in: <function tqdm.__del__ at 0x000002EF6CE5A840>\n",
      "Traceback (most recent call last):\n",
      "  File \"C:\\Users\\user\\sarcasm-detection-service\\sarcasm_env\\Lib\\site-packages\\tqdm\\std.py\", line 1148, in __del__\n",
      "    self.close()\n",
      "  File \"C:\\Users\\user\\sarcasm-detection-service\\sarcasm_env\\Lib\\site-packages\\tqdm\\notebook.py\", line 279, in close\n",
      "    self.disp(bar_style='danger', check_delay=False)\n",
      "    ^^^^^^^^^\n",
      "AttributeError: 'tqdm' object has no attribute 'disp'\n"
     ]
    },
    {
     "data": {
      "application/vnd.jupyter.widget-view+json": {
       "model_id": "076cb811b3384e448955d3d11301e3bb",
       "version_major": 2,
       "version_minor": 0
      },
      "text/plain": [
       "Map:   0%|          | 0/5701 [00:00<?, ? examples/s]"
      ]
     },
     "metadata": {},
     "output_type": "display_data"
    },
    {
     "name": "stderr",
     "output_type": "stream",
     "text": [
      "C:\\Users\\user\\AppData\\Local\\Temp\\ipykernel_24596\\1132885735.py:68: FutureWarning: `tokenizer` is deprecated and will be removed in version 5.0.0 for `Trainer.__init__`. Use `processing_class` instead.\n",
      "  trainer = Trainer(\n"
     ]
    },
    {
     "name": "stdout",
     "output_type": "stream",
     "text": [
      "Начинаем обучение BERT-Tiny...\n"
     ]
    },
    {
     "data": {
      "text/html": [
       "\n",
       "    <div>\n",
       "      \n",
       "      <progress value='8553' max='8553' style='width:300px; height:20px; vertical-align: middle;'></progress>\n",
       "      [8553/8553 19:20, Epoch 3/3]\n",
       "    </div>\n",
       "    <table border=\"1\" class=\"dataframe\">\n",
       "  <thead>\n",
       " <tr style=\"text-align: left;\">\n",
       "      <th>Epoch</th>\n",
       "      <th>Training Loss</th>\n",
       "      <th>Validation Loss</th>\n",
       "      <th>F1</th>\n",
       "      <th>Accuracy</th>\n",
       "    </tr>\n",
       "  </thead>\n",
       "  <tbody>\n",
       "    <tr>\n",
       "      <td>1</td>\n",
       "      <td>0.382300</td>\n",
       "      <td>0.382631</td>\n",
       "      <td>0.840952</td>\n",
       "      <td>0.841081</td>\n",
       "    </tr>\n",
       "    <tr>\n",
       "      <td>2</td>\n",
       "      <td>0.350500</td>\n",
       "      <td>0.369725</td>\n",
       "      <td>0.852191</td>\n",
       "      <td>0.852131</td>\n",
       "    </tr>\n",
       "    <tr>\n",
       "      <td>3</td>\n",
       "      <td>0.353000</td>\n",
       "      <td>0.358531</td>\n",
       "      <td>0.858706</td>\n",
       "      <td>0.858621</td>\n",
       "    </tr>\n",
       "  </tbody>\n",
       "</table><p>"
      ],
      "text/plain": [
       "<IPython.core.display.HTML object>"
      ]
     },
     "metadata": {},
     "output_type": "display_data"
    },
    {
     "name": "stdout",
     "output_type": "stream",
     "text": [
      "Выполняем предсказания...\n",
      "✅ Обучение завершено:\n",
      "   F1-score: 0.8548\n",
      "   Accuracy: 0.8586\n",
      "   Время обучения: 1172.37 сек\n",
      "   Время предсказания: 25.6113 сек\n"
     ]
    }
   ],
   "source": [
    "print(\"\\n\" + \"=\"*50)\n",
    "print(\"3. 🤖 BERT-Tiny\")\n",
    "print(\"=\"*50)\n",
    "\n",
    "try:\n",
    "    start_time = time.time()\n",
    "\n",
    "    print(\"Загружаем BERT-Tiny...\")\n",
    "    model_name = \"prajjwal1/bert-tiny\"\n",
    "    tokenizer = AutoTokenizer.from_pretrained(model_name)\n",
    "    model = AutoModelForSequenceClassification.from_pretrained(model_name, num_labels=2)\n",
    "\n",
    "    \n",
    "    def preprocess_function(examples):\n",
    "        tokenized = tokenizer(\n",
    "            examples[\"headline\"],\n",
    "            truncation=True,\n",
    "            padding=True,\n",
    "            max_length=128,\n",
    "            add_special_tokens=True\n",
    "        )\n",
    "        tokenized[\"labels\"] = examples[\"is_sarcastic\"]\n",
    "        return tokenized\n",
    "\n",
    "    print(\"Подготавливаем данные...\")\n",
    "    raw_datasets = DatasetDict({\n",
    "        \"train\": Dataset.from_pandas(train[['headline', 'is_sarcastic']]),\n",
    "        \"valid\": Dataset.from_pandas(test[['headline', 'is_sarcastic']])\n",
    "    })\n",
    "\n",
    "    tokenized_datasets = raw_datasets.map(\n",
    "        preprocess_function,\n",
    "        batched=True,\n",
    "        remove_columns=raw_datasets[\"train\"].column_names\n",
    "    )\n",
    "\n",
    "    # Data collator\n",
    "    data_collator = DataCollatorWithPadding(tokenizer=tokenizer)\n",
    "\n",
    "    f1_metric = evaluate.load('f1')\n",
    "    accuracy_metric = evaluate.load('accuracy')\n",
    "\n",
    "    def compute_metrics(eval_pred):\n",
    "        predictions, labels = eval_pred\n",
    "        predictions = np.argmax(predictions, axis=1)\n",
    "        return {\n",
    "            'f1': f1_metric.compute(predictions=predictions, references=labels, average=\"weighted\")[\"f1\"],\n",
    "            'accuracy': accuracy_metric.compute(predictions=predictions, references=labels)[\"accuracy\"]\n",
    "        }\n",
    "\n",
    "    training_args = TrainingArguments(\n",
    "        output_dir=\"./models/finetuned_bert_tiny\",\n",
    "        learning_rate=2e-5,\n",
    "        per_device_train_batch_size=8,\n",
    "        per_device_eval_batch_size=8,\n",
    "        num_train_epochs=3,\n",
    "        logging_steps=50,\n",
    "        weight_decay=0.01,\n",
    "        eval_strategy=\"epoch\",  \n",
    "        save_strategy=\"epoch\",\n",
    "        load_best_model_at_end=True,\n",
    "        save_total_limit=1,\n",
    "        seed=42,\n",
    "        report_to=\"none\",\n",
    "        dataloader_pin_memory=False\n",
    "    )\n",
    "\n",
    "    trainer = Trainer(\n",
    "        model=model,\n",
    "        args=training_args,\n",
    "        train_dataset=tokenized_datasets[\"train\"],\n",
    "        eval_dataset=tokenized_datasets[\"valid\"],\n",
    "        tokenizer=tokenizer,\n",
    "        data_collator=data_collator,\n",
    "        compute_metrics=compute_metrics\n",
    "    )\n",
    "\n",
    "    print(\"Начинаем обучение BERT-Tiny...\")\n",
    "    trainer.train()\n",
    "    bert_train_time = time.time() - start_time\n",
    "\n",
    "    trainer.save_model()\n",
    " \n",
    "    print(\"Выполняем предсказания...\")\n",
    "    start_pred = time.time()\n",
    "    \n",
    "    def predict_bert(texts, tokenizer, model):\n",
    "        predictions = []\n",
    "        for text in texts:\n",
    "            inputs = tokenizer(text, return_tensors=\"pt\", truncation=True, padding=True, max_length=128)\n",
    "            with torch.no_grad():\n",
    "                outputs = model(**inputs)\n",
    "                probs = torch.softmax(outputs.logits, dim=1)\n",
    "                predictions.append(probs.argmax().item())\n",
    "        return predictions\n",
    "    \n",
    "    bert_pred = predict_bert(test['headline'].tolist(), tokenizer, model)\n",
    "    bert_pred_time = time.time() - start_pred\n",
    "    \n",
    "    bert_f1 = f1_score(test['is_sarcastic'], bert_pred)\n",
    "    bert_accuracy = accuracy_score(test['is_sarcastic'], bert_pred)\n",
    "    \n",
    "    print(f\"✅ Обучение завершено:\")\n",
    "    print(f\"   F1-score: {bert_f1:.4f}\")\n",
    "    print(f\"   Accuracy: {bert_accuracy:.4f}\")\n",
    "    print(f\"   Время обучения: {bert_train_time:.2f} сек\")\n",
    "    print(f\"   Время предсказания: {bert_pred_time:.4f} сек\")\n",
    "    \n",
    "    results['BERT_Tiny'] = {\n",
    "        'model': model,\n",
    "        'tokenizer': tokenizer,\n",
    "        'f1': bert_f1,\n",
    "        'accuracy': bert_accuracy,\n",
    "        'train_time': bert_train_time,\n",
    "        'pred_time': bert_pred_time,\n",
    "        'predictions': bert_pred\n",
    "    }\n",
    "\n",
    "except Exception as e:\n",
    "    print(f\"❌ Ошибка при обучении BERT-Tiny: {e}\")\n",
    "    print(\"Пропускаем BERT-Tiny\")"
   ]
  },
  {
   "cell_type": "markdown",
   "id": "ea3a073d-68f6-49b9-99d6-d7fd476b9e7c",
   "metadata": {},
   "source": [
    "# 4. RoBERTa Base\n",
    "Уменьшим колличество эпох до двух."
   ]
  },
  {
   "cell_type": "code",
   "execution_count": 13,
   "id": "e71aa4ee-a097-43e9-b4f2-2ad4055fe011",
   "metadata": {},
   "outputs": [
    {
     "name": "stdout",
     "output_type": "stream",
     "text": [
      "\n",
      "==================================================\n",
      "4. 🦾 RoBERTa Base\n",
      "==================================================\n",
      "Загружаем RoBERTa...\n"
     ]
    },
    {
     "name": "stderr",
     "output_type": "stream",
     "text": [
      "Some weights of RobertaForSequenceClassification were not initialized from the model checkpoint at roberta-base and are newly initialized: ['classifier.dense.bias', 'classifier.dense.weight', 'classifier.out_proj.bias', 'classifier.out_proj.weight']\n",
      "You should probably TRAIN this model on a down-stream task to be able to use it for predictions and inference.\n"
     ]
    },
    {
     "data": {
      "application/vnd.jupyter.widget-view+json": {
       "model_id": "44c3a19cefc84089bc67a8d031375882",
       "version_major": 2,
       "version_minor": 0
      },
      "text/plain": [
       "Map:   0%|          | 0/22802 [00:00<?, ? examples/s]"
      ]
     },
     "metadata": {},
     "output_type": "display_data"
    },
    {
     "data": {
      "application/vnd.jupyter.widget-view+json": {
       "model_id": "8855ac48733c499b80fd0670c8d2f7e8",
       "version_major": 2,
       "version_minor": 0
      },
      "text/plain": [
       "Map:   0%|          | 0/5701 [00:00<?, ? examples/s]"
      ]
     },
     "metadata": {},
     "output_type": "display_data"
    },
    {
     "name": "stderr",
     "output_type": "stream",
     "text": [
      "C:\\Users\\user\\AppData\\Local\\Temp\\ipykernel_24596\\4209338769.py:51: FutureWarning: `tokenizer` is deprecated and will be removed in version 5.0.0 for `Trainer.__init__`. Use `processing_class` instead.\n",
      "  trainer = Trainer(\n"
     ]
    },
    {
     "name": "stdout",
     "output_type": "stream",
     "text": [
      "Начинаем обучение RoBERTa...\n"
     ]
    },
    {
     "data": {
      "text/html": [
       "\n",
       "    <div>\n",
       "      \n",
       "      <progress value='5702' max='5702' style='width:300px; height:20px; vertical-align: middle;'></progress>\n",
       "      [5702/5702 8:05:09, Epoch 2/2]\n",
       "    </div>\n",
       "    <table border=\"1\" class=\"dataframe\">\n",
       "  <thead>\n",
       " <tr style=\"text-align: left;\">\n",
       "      <th>Epoch</th>\n",
       "      <th>Training Loss</th>\n",
       "      <th>Validation Loss</th>\n",
       "      <th>F1</th>\n",
       "      <th>Accuracy</th>\n",
       "    </tr>\n",
       "  </thead>\n",
       "  <tbody>\n",
       "    <tr>\n",
       "      <td>1</td>\n",
       "      <td>0.126600</td>\n",
       "      <td>0.314158</td>\n",
       "      <td>0.923617</td>\n",
       "      <td>0.923873</td>\n",
       "    </tr>\n",
       "    <tr>\n",
       "      <td>2</td>\n",
       "      <td>0.191200</td>\n",
       "      <td>0.333458</td>\n",
       "      <td>0.932119</td>\n",
       "      <td>0.932293</td>\n",
       "    </tr>\n",
       "  </tbody>\n",
       "</table><p>"
      ],
      "text/plain": [
       "<IPython.core.display.HTML object>"
      ]
     },
     "metadata": {},
     "output_type": "display_data"
    },
    {
     "name": "stdout",
     "output_type": "stream",
     "text": [
      "✅ Обучение завершено:\n",
      "   F1-score: 0.9166\n",
      "   Accuracy: 0.9239\n",
      "   Время обучения: 29130.66 сек\n",
      "   Время предсказания: 586.0125 сек\n"
     ]
    }
   ],
   "source": [
    "print(\"\\n\" + \"=\"*50)\n",
    "print(\"4. 🦾 RoBERTa Base\")\n",
    "print(\"=\"*50)\n",
    "\n",
    "from transformers import (\n",
    "    TrainingArguments,\n",
    "    Trainer,\n",
    "    DataCollatorWithPadding,\n",
    "    RobertaTokenizer,\n",
    "    RobertaForSequenceClassification\n",
    ")\n",
    "try:\n",
    "    start_time = time.time()\n",
    "    \n",
    "    print(\"Загружаем RoBERTa...\")\n",
    "    model_name = \"roberta-base\"\n",
    "    tokenizer = RobertaTokenizer.from_pretrained(model_name)\n",
    "    model = RobertaForSequenceClassification.from_pretrained(model_name, num_labels=2)\n",
    "    \n",
    "    # Используем ту же функцию предобработки\n",
    "    raw_datasets = DatasetDict({\n",
    "        \"train\": Dataset.from_pandas(train[['headline', 'is_sarcastic']]),\n",
    "        \"valid\": Dataset.from_pandas(test[['headline', 'is_sarcastic']])\n",
    "    })\n",
    "\n",
    "    tokenized_datasets = raw_datasets.map(\n",
    "        preprocess_function,\n",
    "        batched=True,\n",
    "        remove_columns=raw_datasets[\"train\"].column_names\n",
    "    )\n",
    "\n",
    "    data_collator = DataCollatorWithPadding(tokenizer=tokenizer)\n",
    "    \n",
    "    training_args = TrainingArguments(\n",
    "        output_dir=\"./models/finetuned_roberta\",\n",
    "        learning_rate=2e-5,\n",
    "        per_device_train_batch_size=8,\n",
    "        per_device_eval_batch_size=8,\n",
    "        num_train_epochs=2,\n",
    "        logging_steps=10,\n",
    "        weight_decay=0.01,\n",
    "        eval_strategy=\"epoch\",  \n",
    "        save_strategy=\"epoch\",\n",
    "        load_best_model_at_end=True,\n",
    "        save_total_limit=1,\n",
    "        seed=42,\n",
    "        report_to=\"none\",\n",
    "        dataloader_pin_memory=False\n",
    "    )\n",
    "\n",
    "    trainer = Trainer(\n",
    "        model=model,\n",
    "        args=training_args,\n",
    "        train_dataset=tokenized_datasets[\"train\"],\n",
    "        eval_dataset=tokenized_datasets[\"valid\"],\n",
    "        tokenizer=tokenizer,\n",
    "        data_collator=data_collator,\n",
    "        compute_metrics=compute_metrics\n",
    "    )\n",
    "\n",
    "    print(\"Начинаем обучение RoBERTa...\")\n",
    "    trainer.train()\n",
    "    roberta_train_time = time.time() - start_time\n",
    "    \n",
    "    trainer.save_model()\n",
    "\n",
    "    start_pred = time.time()\n",
    "    roberta_pred = predict_bert(test['headline'].tolist(), tokenizer, model)\n",
    "    roberta_pred_time = time.time() - start_pred\n",
    "    \n",
    "    roberta_f1 = f1_score(test['is_sarcastic'], roberta_pred)\n",
    "    roberta_accuracy = accuracy_score(test['is_sarcastic'], roberta_pred)\n",
    "    \n",
    "    print(f\"✅ Обучение завершено:\")\n",
    "    print(f\"   F1-score: {roberta_f1:.4f}\")\n",
    "    print(f\"   Accuracy: {roberta_accuracy:.4f}\")\n",
    "    print(f\"   Время обучения: {roberta_train_time:.2f} сек\")\n",
    "    print(f\"   Время предсказания: {roberta_pred_time:.4f} сек\")\n",
    "    \n",
    "    results['RoBERTa_Base'] = {\n",
    "        'model': model,\n",
    "        'tokenizer': tokenizer,\n",
    "        'f1': roberta_f1,\n",
    "        'accuracy': roberta_accuracy,\n",
    "        'train_time': roberta_train_time,\n",
    "        'pred_time': roberta_pred_time,\n",
    "        'predictions': roberta_pred\n",
    "    }\n",
    "\n",
    "except Exception as e:\n",
    "    print(f\"❌ Ошибка при обучении RoBERTa: {e}\")\n",
    "    print(\"Пропускаем RoBERTa\")"
   ]
  },
  {
   "cell_type": "markdown",
   "id": "e83ce2c0-8918-4a5e-9885-a8f6752437ee",
   "metadata": {},
   "source": [
    "# СРАВНЕНИЕ МОДЕЛЕЙ"
   ]
  },
  {
   "cell_type": "code",
   "execution_count": 14,
   "id": "e67c4183-3adc-4a29-ab14-de4f14d2aae4",
   "metadata": {},
   "outputs": [
    {
     "name": "stdout",
     "output_type": "stream",
     "text": [
      "\n",
      "============================================================\n",
      "📊 СРАВНЕНИЕ ВСЕХ МОДЕЛЕЙ\n",
      "============================================================\n",
      "\n",
      "       Model  F1-Score  Accuracy  Training_Time_s  Prediction_Time_s\n",
      "RoBERTa_Base  0.916603  0.923873     29130.656337         586.012529\n",
      "   BERT_Tiny  0.854827  0.858621      1172.368553          25.611261\n",
      "LogReg_TFIDF  0.771677  0.783371         5.621842           0.001010\n",
      " CatBoost_ST  0.715332  0.768111       293.381190           0.140188\n"
     ]
    }
   ],
   "source": [
    "print(\"\\n\" + \"=\"*60)\n",
    "print(\"📊 СРАВНЕНИЕ ВСЕХ МОДЕЛЕЙ\")\n",
    "print(\"=\"*60)\n",
    "\n",
    "comparison_data = []\n",
    "for model_name, metrics in results.items():\n",
    "    comparison_data.append({\n",
    "        'Model': model_name,\n",
    "        'F1-Score': metrics['f1'],\n",
    "        'Accuracy': metrics['accuracy'],\n",
    "        'Training_Time_s': metrics['train_time'],\n",
    "        'Prediction_Time_s': metrics['pred_time']\n",
    "    })\n",
    "\n",
    "comparison_df = pd.DataFrame(comparison_data).sort_values('F1-Score', ascending=False)\n",
    "print(\"\\n\" + comparison_df.to_string(index=False))"
   ]
  },
  {
   "cell_type": "markdown",
   "id": "1139be65-09a3-4567-b0ab-21634d35302c",
   "metadata": {},
   "source": [
    "# Визуализация"
   ]
  },
  {
   "cell_type": "code",
   "execution_count": 15,
   "id": "5b568038-803b-4921-a851-ad5d838a9353",
   "metadata": {},
   "outputs": [
    {
     "data": {
      "image/png": "[encoded data removed]",
      "text/plain": [
       "<Figure size 1500x1000 with 1 Axes>"
      ]
     },
     "metadata": {},
     "output_type": "display_data"
    }
   ],
   "source": [
    "plt.figure(figsize=(15, 10))\n",
    "\n",
    "# F1-Score и Accuracy\n",
    "plt.subplot(2, 2, 1)\n",
    "models = comparison_df['Model']\n",
    "f1_scores = comparison_df['F1-Score']\n",
    "acc_scores = comparison_df['Accuracy']\n",
    "\n",
    "x = np.arange(len(models))\n",
    "width = 0.35\n",
    "\n",
    "plt.bar(x - width/2, f1_scores, width, label='F1-Score', alpha=0.8)\n",
    "plt.bar(x + width/2, acc_scores, width, label='Accuracy', alpha=0.8)\n",
    "plt.xlabel('Models')\n",
    "plt.ylabel('Scores')\n",
    "plt.title('F1-Score and Accuracy Comparison')\n",
    "plt.xticks(x, models, rotation=45)\n",
    "plt.legend()\n",
    "plt.grid(True, alpha=0.3)"
   ]
  },
  {
   "cell_type": "markdown",
   "id": "496df7fb-3b67-4e29-86cf-46b38f5717a3",
   "metadata": {},
   "source": [
    "# Время обучения"
   ]
  },
  {
   "cell_type": "code",
   "execution_count": 16,
   "id": "0981d48c-87ca-4af6-954c-c9ebf4300e42",
   "metadata": {},
   "outputs": [
    {
     "data": {
      "image/png": "[encoded data removed]",
      "text/plain": [
       "<Figure size 640x480 with 1 Axes>"
      ]
     },
     "metadata": {},
     "output_type": "display_data"
    }
   ],
   "source": [
    "plt.subplot(2, 2, 2)\n",
    "plt.bar(models, comparison_df['Training_Time_s'], color='orange', alpha=0.7)\n",
    "plt.xlabel('Models')\n",
    "plt.ylabel('Time (seconds)')\n",
    "plt.title('Training Time Comparison')\n",
    "plt.xticks(rotation=45)\n",
    "plt.grid(True, alpha=0.3)"
   ]
  },
  {
   "cell_type": "markdown",
   "id": "a9639323-b936-4e00-ae80-e277db4d518d",
   "metadata": {},
   "source": [
    "# Время предсказания"
   ]
  },
  {
   "cell_type": "code",
   "execution_count": 17,
   "id": "015ee3ef-23d8-422f-a3c1-b8ebe39fa12e",
   "metadata": {},
   "outputs": [
    {
     "data": {
      "image/png": "[encoded data removed]",
      "text/plain": [
       "<Figure size 640x480 with 1 Axes>"
      ]
     },
     "metadata": {},
     "output_type": "display_data"
    }
   ],
   "source": [
    "plt.subplot(2, 2, 3)\n",
    "plt.bar(models, comparison_df['Prediction_Time_s'], color='green', alpha=0.7)\n",
    "plt.xlabel('Models')\n",
    "plt.ylabel('Time (seconds)')\n",
    "plt.title('Prediction Time Comparison')\n",
    "plt.xticks(rotation=45)\n",
    "plt.grid(True, alpha=0.3)"
   ]
  },
  {
   "cell_type": "markdown",
   "id": "a4cb10ab-8bd3-4143-bc17-14ff47606e92",
   "metadata": {},
   "source": [
    "# ВЫБОР И СОХРАНЕНИЕ ЛУЧШЕЙ МОДЕЛИ"
   ]
  },
  {
   "cell_type": "code",
   "execution_count": 25,
   "id": "1189d4c9-a958-46f6-83d0-19ef2ad7af0b",
   "metadata": {},
   "outputs": [
    {
     "name": "stdout",
     "output_type": "stream",
     "text": [
      "Доступные ключи в best_model_metrics: ['model', 'tokenizer', 'f1', 'accuracy', 'train_time', 'pred_time', 'predictions']\n"
     ]
    }
   ],
   "source": [
    "print(\"Доступные ключи в best_model_metrics:\", list(best_model_metrics.keys()))"
   ]
  },
  {
   "cell_type": "code",
   "execution_count": 33,
   "id": "a608fb64-c2d5-4994-be72-5203b24ed373",
   "metadata": {},
   "outputs": [
    {
     "name": "stdout",
     "output_type": "stream",
     "text": [
      "💾 СОХРАНЕНИЕ LOGREG_TFIDF ДЛЯ ПРЕДСКАЗАНИЙ\n"
     ]
    }
   ],
   "source": [
    "print(\"💾 СОХРАНЕНИЕ LOGREG_TFIDF ДЛЯ ПРЕДСКАЗАНИЙ\")\n",
    "\n",
    "# Получаем модель и векторизатор из results\n",
    "best_model_metrics = results['LogReg_TFIDF']\n",
    "\n",
    "lr_model = best_model_metrics['model']\n",
    "tfidf = best_model_metrics['vectorizer']"
   ]
  },
  {
   "cell_type": "code",
   "execution_count": 37,
   "id": "790270fb-d6b4-4883-8376-a502f24638c7",
   "metadata": {},
   "outputs": [
    {
     "name": "stdout",
     "output_type": "stream",
     "text": [
      "📦 Сохраняем компоненты модели...\n"
     ]
    },
    {
     "data": {
      "text/plain": [
       "['./models/logreg_tfidf_package.joblib']"
      ]
     },
     "execution_count": 37,
     "metadata": {},
     "output_type": "execute_result"
    }
   ],
   "source": [
    "print(\"📦 Сохраняем компоненты модели...\")\n",
    "import datetime\n",
    "import sklearn\n",
    "\n",
    "model_package = {\n",
    "    'model': lr_model,\n",
    "    'vectorizer': tfidf,\n",
    "    'metadata': {\n",
    "        'model_name': 'LogReg_TFIDF',\n",
    "        'f1_score': best_model_metrics['f1'],\n",
    "        'accuracy': best_model_metrics['accuracy'],\n",
    "        'train_time': best_model_metrics['train_time'],\n",
    "        'pred_time': best_model_metrics['pred_time'],\n",
    "        'saved_date': datetime.datetime.now().strftime(\"%Y-%m-%d %H:%M:%S\"),\n",
    "        'sklearn_version': sklearn.__version__,\n",
    "        'feature_type': 'TF-IDF',\n",
    "        'ngram_range': '(1, 2)',\n",
    "        'max_features': 10000\n",
    "    }\n",
    "}\n",
    "joblib.dump(model_package, './models/logreg_tfidf_package.joblib')\n"
   ]
  },
  {
   "cell_type": "code",
   "execution_count": 38,
   "id": "336dcf54-53a3-4f27-9c38-3d0f570009f2",
   "metadata": {},
   "outputs": [
    {
     "name": "stdout",
     "output_type": "stream",
     "text": [
      "✅ Модель LogReg_TFIDF сохранена для предсказаний!\n",
      "📊 F1-Score: 0.7717\n",
      "🎯 Accuracy: 0.7834\n",
      "\n",
      "📁 Сохраненные файлы:\n",
      "  - lr_model.joblib\n",
      "  - tfidf_vectorizer.joblib\n",
      "  - logreg_tfidf_package.joblib\n",
      "  - model_info.txt\n"
     ]
    }
   ],
   "source": [
    "with open('./models/model_info.txt', 'w', encoding='utf-8') as f:\n",
    "    f.write(\"=== LOGREG_TFIDF MODEL INFO ===\\n\\n\")\n",
    "    f.write(f\"Сохранено: {datetime.datetime.now()}\\n\\n\")\n",
    "    f.write(\"МЕТРИКИ:\\n\")\n",
    "    f.write(f\"  F1-Score: {best_model_metrics['f1']:.4f}\\n\")\n",
    "    f.write(f\"  Accuracy: {best_model_metrics['accuracy']:.4f}\\n\")\n",
    "    f.write(f\"  Training Time: {best_model_metrics['train_time']:.2f} сек\\n\")\n",
    "    f.write(f\"  Prediction Time: {best_model_metrics['pred_time']:.4f} сек\\n\\n\")\n",
    "    f.write(\"ПАРАМЕТРЫ TF-IDF:\\n\")\n",
    "    f.write(\"  max_features: 10000\\n\")\n",
    "    f.write(\"  ngram_range: (1, 2)\\n\")\n",
    "    f.write(\"  stop_words: english\\n\\n\")\n",
    "    f.write(\"СОХРАНЕННЫЕ ФАЙЛЫ:\\n\")\n",
    "    f.write(\"  lr_model.joblib - модель Logistic Regression\\n\")\n",
    "    f.write(\"  tfidf_vectorizer.joblib - TF-IDF векторизатор\\n\")\n",
    "    f.write(\"  logreg_tfidf_package.joblib - полный пакет\\n\")\n",
    "    f.write(\"  model_info.txt - эта информация\\n\")\n",
    "\n",
    "print(\"✅ Модель LogReg_TFIDF сохранена для предсказаний!\")\n",
    "print(f\"📊 F1-Score: {best_model_metrics['f1']:.4f}\")\n",
    "print(f\"🎯 Accuracy: {best_model_metrics['accuracy']:.4f}\")\n",
    "print(\"\\n📁 Сохраненные файлы:\")\n",
    "print(\"  - lr_model.joblib\")\n",
    "print(\"  - tfidf_vectorizer.joblib\")\n",
    "print(\"  - logreg_tfidf_package.joblib\")\n",
    "print(\"  - model_info.txt\")"
   ]
  },
  {
   "cell_type": "markdown",
   "id": "6a596df8-4bf1-4f06-b050-49c5cc631793",
   "metadata": {},
   "source": [
    "Обучено 4 модели \n",
    "\n",
    "1. 🔵 Logistic Regression + TF-IDF (Classic ML)\n",
    " ✅ F1-score: 0.7717\n",
    "- Accuracy: 0.7834\n",
    "- Время обучения: 5.62 сек\n",
    "- Время предсказания: 0.0010 сек\n",
    "- Алгоритм: Линейная классификация\")\n",
    "- Векторизация: TF-IDF с n-граммами (1,2)\")\n",
    "- Преимущества: Быстрая, интерпретируемая, хороший baseline\n",
    "- Использование: Обучение на TF-IDF features\n",
    "  \n",
    "2. 🐱 CatBoost + SentenceTransformer (Ensemble + Embeddings(худшая модель)\n",
    "✅ F1-score: 0.7153\n",
    "- Accuracy: 0.7681\n",
    "- Время обучения: 293.38 сек\n",
    "- Время предсказания: 0.1402 сек\n",
    "- \n",
    "- Алгоритм: Градиентный бустинг\")\n",
    "- Эмбеддинги: SentenceTransformer (all-MiniLM-L6-v2)\")\n",
    "- Преимущества: Мощный, handles categorical features\")\n",
    "- Использование: Обучение на текстовых эмбеддингах\")\n",
    "\n",
    "3. 🤖 BERT-Tiny (Transformer-based)\n",
    "✅ F1-score: 0.8548\n",
    "- Accuracy: 0.8586\n",
    "- Время обучения: 1172.37 сек\n",
    "- Время предсказания: 25.6113 сек\n",
    "  \n",
    "- Архитектура: Миниатюрная версия BERT\n",
    "- Параметры: ~4.4M параметров\n",
    "- Преимущества: Быстрая, легкая, хорошее качество\n",
    "- Использование: Fine-tuning на датасете сарказма\n",
    "\n",
    "4. 🦾 RoBERTa-Base (Transformer-based)(показала лучшие метрики, но очень долгая)\n",
    "✅F1-score: 0.9166\n",
    "- Accuracy: 0.9239\n",
    "- Время обучения: 29130.66 сек\n",
    "- Время предсказания: 586.0125 сек\n",
    "\n",
    "- Архитектура: Оптимизированная версия BERT\n",
    "- Параметры: ~125M параметров\n",
    "- Преимущества: Высокое качество, robust representations\n",
    "- Использование: Fine-tuning на датасете сарказма\n",
    " \n",
    "\n",
    "📈 МЕТРИКИ ОЦЕНКИ:\n",
    "• Основные: F1-Score, Accuracy, Precision, Recall\n",
    "• Временные: Время обучения, время инференса\n",
    "• Дополнительные: Уверенность предсказаний, ROC-AUC\n",
    "\n",
    "🛠️  ТЕХНОЛОГИЧЕСКИЙ СТЕК:\n",
    "• Фреймворки: PyTorch, Transformers, Scikit-learn, CatBoost\n",
    "• Обработка текста: NLTK, SentenceTransformers, TF-IDF\n",
    "• Модели: BERT, RoBERTa, Logistic Regression, Gradient Boosting\n",
    "• Инструменты: Hugging Face, Datasets, Evaluate\n",
    "\n",
    "Сравнили метрики (F1, Accuracy, время)\n",
    "\n",
    "Создали визуализации для сравнения\n",
    "\n",
    "Сгенерировали отчеты и сохранили все файлы"
   ]
  }
 ],
 "metadata": {
  "kernelspec": {
   "display_name": "Python 3 (ipykernel)",
   "language": "python",
   "name": "python3"
  },
  "language_info": {
   "codemirror_mode": {
    "name": "ipython",
    "version": 3
   },
   "file_extension": ".py",
   "mimetype": "text/x-python",
   "name": "python",
   "nbconvert_exporter": "python",
   "pygments_lexer": "ipython3",
   "version": "3.12.3"
  }
 },
 "nbformat": 4,
 "nbformat_minor": 5
}
